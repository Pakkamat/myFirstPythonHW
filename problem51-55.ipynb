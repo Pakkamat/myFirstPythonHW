{
 "cells": [
  {
   "cell_type": "markdown",
   "metadata": {},
   "source": [
    "Problem 51"
   ]
  },
  {
   "cell_type": "code",
   "execution_count": 6,
   "metadata": {},
   "outputs": [
    {
     "name": "stdout",
     "output_type": "stream",
     "text": [
      "True\n",
      "True\n",
      "True\n"
     ]
    }
   ],
   "source": [
    "def mutate(s):\n",
    "    az = 'abcdefjhijklmnopqrstuvwxyz'\n",
    "    a = [s[:pos]+e+s[pos:] for pos in range(len(s)+1) for e in az]\n",
    "    b = [s[:pos]+s[pos+1:] for pos in range(len(s))]\n",
    "    c = [s[:pos]+e+s[pos+1:] for pos in range(len(s)) for e in az]\n",
    "    d = [s[:x]+s[x:x+2][::-1]+s[x+2:] for x in range(0, len(s)+1)]\n",
    "    return list(set(a+b+c+d))\n",
    "words = mutate('hello')\n",
    "print('helo' in words)\n",
    "print('cello' in words)\n",
    "print('helol' in words)"
   ]
  },
  {
   "cell_type": "markdown",
   "metadata": {},
   "source": [
    "Problem 52"
   ]
  },
  {
   "cell_type": "code",
   "execution_count": 9,
   "metadata": {},
   "outputs": [
    {
     "name": "stdout",
     "output_type": "stream",
     "text": [
      "False\n",
      "True\n",
      "True\n",
      "False\n"
     ]
    }
   ],
   "source": [
    "def nearly_equal(a,b):\n",
    "    return (a in mutate(b))\n",
    "print(nearly_equal('python', 'perl'))\n",
    "print(nearly_equal('peal', 'pearl'))\n",
    "print(nearly_equal('python', 'jython'))\n",
    "print(nearly_equal('man', 'women'))"
   ]
  },
  {
   "cell_type": "markdown",
   "metadata": {},
   "source": [
    "Problem 53"
   ]
  },
  {
   "cell_type": "code",
   "execution_count": 18,
   "metadata": {},
   "outputs": [
    {
     "name": "stdout",
     "output_type": "stream",
     "text": [
      "She 1\n",
      "seashore; 1\n",
      "The 1\n",
      "sure. 1\n",
      "So 1\n",
      "if 1\n",
      "seashore, 1\n",
      "sure 1\n",
      "seashore 1\n",
      "shells. 1\n",
      "on 2\n",
      "shells 2\n",
      "that 2\n",
      "she 2\n",
      "are 2\n",
      "I'm 2\n",
      "sells 3\n",
      "seashells 3\n",
      "the 3\n"
     ]
    }
   ],
   "source": [
    "def word_frequency(words):\n",
    "    frequency = {}\n",
    "    for w in words:\n",
    "        frequency[w] = frequency.get(w, 0) + 1\n",
    "    return (frequency)\n",
    "def read_words(filename):\n",
    "    return open(filename).read().split()\n",
    "def main(filename):\n",
    "    frequency = word_frequency(read_words(filename))\n",
    "    frequency = {k: v for k, v in sorted(frequency.items(), key=lambda item: item[1])}\n",
    "    for word, count in frequency.items():\n",
    "        print (word, count)\n",
    "main('she.txt')"
   ]
  },
  {
   "cell_type": "markdown",
   "metadata": {},
   "source": [
    "Problem 54"
   ]
  },
  {
   "cell_type": "code",
   "execution_count": 23,
   "metadata": {},
   "outputs": [
    {
     "name": "stdout",
     "output_type": "stream",
     "text": [
      "Python program file\n"
     ]
    }
   ],
   "source": [
    "def char_frequency(words):\n",
    "    frequency = {}\n",
    "    for w in words:\n",
    "        for c in w:\n",
    "            frequency[c] = frequency.get(c, 0) + 1\n",
    "    return frequency\n",
    "\n",
    "def read_words(x):\n",
    "    return (open(x).read().split())\n",
    "\n",
    "def checkFile(x):\n",
    "    frequency = char_frequency(read_words(x))\n",
    "    \n",
    "    nCL = frequency.get(':', 0)\n",
    "    nSC = frequency.get(';', 0)\n",
    "    if nCL > 0 and nCL > nSC:\n",
    "        print('Python program file')\n",
    "    elif nSC > 0 and nSC>nCL:\n",
    "        print('C program file')\n",
    "    else:\n",
    "        print('Text file')\n",
    "checkFile('problem16-20.ipynb')"
   ]
  },
  {
   "cell_type": "markdown",
   "metadata": {},
   "source": [
    "Problem 55"
   ]
  },
  {
   "cell_type": "code",
   "execution_count": 4,
   "metadata": {},
   "outputs": [
    {
     "data": {
      "text/plain": [
       "[['eat', 'ate', 'tea'], ['done', 'node'], ['soup']]"
      ]
     },
     "execution_count": 4,
     "metadata": {},
     "output_type": "execute_result"
    }
   ],
   "source": [
    "def anagrams(inList):\n",
    "    res = dict()\n",
    "    for e in inList:\n",
    "        for k,v in res.items():\n",
    "            if {i for i in e} == {i for i in k} :\n",
    "                res[k] += [e]\n",
    "                break\n",
    "        else :\n",
    "            res[e] = [e]\n",
    "    return [v for k,v in res.items()]\n",
    "anagrams(['eat', 'ate', 'done', 'tea', 'soup', 'node'])"
   ]
  },
  {
   "cell_type": "code",
   "execution_count": null,
   "metadata": {},
   "outputs": [],
   "source": []
  }
 ],
 "metadata": {
  "kernelspec": {
   "display_name": "Python 3",
   "language": "python",
   "name": "python3"
  },
  "language_info": {
   "codemirror_mode": {
    "name": "ipython",
    "version": 3
   },
   "file_extension": ".py",
   "mimetype": "text/x-python",
   "name": "python",
   "nbconvert_exporter": "python",
   "pygments_lexer": "ipython3",
   "version": "3.7.6"
  }
 },
 "nbformat": 4,
 "nbformat_minor": 4
}
