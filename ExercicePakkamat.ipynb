{
 "cells": [
  {
   "cell_type": "markdown",
   "metadata": {},
   "source": [
    "Q1"
   ]
  },
  {
   "cell_type": "code",
   "execution_count": 1,
   "metadata": {},
   "outputs": [
    {
     "name": "stdout",
     "output_type": "stream",
     "text": [
      "[6, 12, 18, 4, 12, 20, 28]\n"
     ]
    }
   ],
   "source": [
    "list1 =[6, 12, 18]\n",
    "list2 =[4, 12, 20, 28]\n",
    "list3 = list1 + list2\n",
    "print(list3)"
   ]
  },
  {
   "cell_type": "markdown",
   "metadata": {},
   "source": [
    "Q2"
   ]
  },
  {
   "cell_type": "code",
   "execution_count": 20,
   "metadata": {},
   "outputs": [
    {
     "name": "stdout",
     "output_type": "stream",
     "text": [
      "Origin List         :  [34, 54, 67, 89, 11, 43, 94]\n",
      "Delete index 4  :  [34, 54, 67, 89, 43, 94]\n",
      "Adding index 2 :  [34, 54, 11, 67, 89, 43, 94]\n",
      "Adding last       :  [34, 54, 11, 67, 89, 43, 94, 11]\n"
     ]
    }
   ],
   "source": [
    "Origin = [34, 54, 67, 89 ,11 ,43 ,94]\n",
    "print('Origin List         : ',Origin)\n",
    "x = Origin.pop(4)\n",
    "print('Delete index 4  : ',Origin)\n",
    "Origin.insert(2, x)\n",
    "print('Adding index 2 : ',Origin)\n",
    "Origin.append(x)\n",
    "print('Adding last       : ',Origin)"
   ]
  },
  {
   "cell_type": "markdown",
   "metadata": {},
   "source": [
    "Q3"
   ]
  },
  {
   "cell_type": "code",
   "execution_count": 43,
   "metadata": {},
   "outputs": [
    {
     "name": "stdout",
     "output_type": "stream",
     "text": [
      "Chunk 1 :  [11, 45, 8] reversing :  [8, 45, 11]\n",
      "Chunk 2 :  [23, 14, 12] reversing :  [12, 14, 23]\n",
      "Chunk 3 :  [78, 45, 89] reversing :  [89, 45, 78]\n"
     ]
    }
   ],
   "source": [
    "Origin3 = [11, 45, 8, 23, 14, 12, 78, 45, 89]\n",
    "y= []\n",
    "while True:\n",
    "    x.append(Origin3.pop(0))\n",
    "    if len(x) == 3:\n",
    "        y.append(x)\n",
    "        x = []\n",
    "    if Origin3 == []:\n",
    "        break\n",
    "x1 = y[0]\n",
    "print('Chunk 1 : ',x1,'reversing : ',x1[::-1])\n",
    "x2 = y[1]\n",
    "print('Chunk 2 : ',x2,'reversing : ',x2[::-1])\n",
    "x3 = y[2]\n",
    "print('Chunk 3 : ',x3,'reversing : ',x3[::-1])"
   ]
  },
  {
   "cell_type": "markdown",
   "metadata": {},
   "source": [
    "Q4"
   ]
  },
  {
   "cell_type": "code",
   "execution_count": 94,
   "metadata": {},
   "outputs": [
    {
     "name": "stdout",
     "output_type": "stream",
     "text": [
      "{11: 2, 45: 3, 8: 1, 23: 2, 89: 1}\n"
     ]
    }
   ],
   "source": [
    "Origin4 = [11, 45, 8, 11, 23, 45, 23, 45, 89]\n",
    "cnt = {}\n",
    "for i in Origin4:\n",
    "    if i in cnt:\n",
    "        cnt[i] += 1\n",
    "    else:\n",
    "        cnt[i] = 1\n",
    "print(cnt)"
   ]
  },
  {
   "cell_type": "markdown",
   "metadata": {},
   "source": [
    "Q5"
   ]
  },
  {
   "cell_type": "code",
   "execution_count": 27,
   "metadata": {},
   "outputs": [
    {
     "name": "stdout",
     "output_type": "stream",
     "text": [
      "{(7, 49), (2, 4), (4, 16), (8, 64), (6, 36), (3, 9), (5, 25)}\n"
     ]
    }
   ],
   "source": [
    "list1 = [2, 3, 4, 5, 6, 7, 8]\n",
    "list2 = [4, 9, 16, 25, 36, 49, 64]\n",
    "y = set()\n",
    "for i in list1:\n",
    "    for j in list2:\n",
    "        if i**2 == j:\n",
    "            x = (i, j)\n",
    "            y.add(x)\n",
    "print(y)"
   ]
  },
  {
   "cell_type": "markdown",
   "metadata": {},
   "source": [
    "Q6"
   ]
  },
  {
   "cell_type": "code",
   "execution_count": 4,
   "metadata": {},
   "outputs": [
    {
     "name": "stdout",
     "output_type": "stream",
     "text": [
      "Intersection [83, 57, 29]\n",
      "after removing [65, 42, 78, 23]\n"
     ]
    }
   ],
   "source": [
    "list1 = [65, 42, 78, 83, 23, 57, 29]\n",
    "list2 = [67, 73, 43, 48, 83, 57, 29]\n",
    "x = []\n",
    "y = []\n",
    "for i in list1:\n",
    "    for j in list2:\n",
    "        if i == j and not i in x:\n",
    "            x.append(i)\n",
    "        if j == i and not i in x:\n",
    "            x.append(j)\n",
    "print('Intersection',x)\n",
    "for i in range(0, len(list1)):\n",
    "    if not list1[i] in x:\n",
    "        y.append(list1[i])\n",
    "print('after removing',y)"
   ]
  },
  {
   "cell_type": "markdown",
   "metadata": {},
   "source": [
    "Q7"
   ]
  },
  {
   "cell_type": "code",
   "execution_count": 101,
   "metadata": {},
   "outputs": [
    {
     "name": "stdout",
     "output_type": "stream",
     "text": [
      "S = set()\n",
      "SS ={67, 73, 43, 48, 83, 57, 29}\n",
      "S is subset of SS : True\n",
      "SS is subset of S : False\n",
      "S is superset of SS : False\n",
      "SS is superset of S : True\n"
     ]
    }
   ],
   "source": [
    "#EX.\n",
    "#s1 = {27, 43, 34}\n",
    "#s2 = {34, 93, 22, 27, 43, 53, 48}\n",
    "#print(s1.issubset(s2))\n",
    "#print(s2.issubset(s1))\n",
    "#print(s1.issuperset(s2))\n",
    "#print(s2.issuperset(s1))\n",
    "#print('/////////////////////////////////////////////////')\n",
    "#Exercise\n",
    "s = set()\n",
    "print('S = set()')\n",
    "ss ={67, 73, 43, 48, 83, 57, 29}\n",
    "print('SS ={67, 73, 43, 48, 83, 57, 29}')\n",
    "print('S is subset of SS :',s.issubset(ss))\n",
    "print('SS is subset of S :',ss.issubset(s))\n",
    "print('S is superset of SS :',s.issuperset(ss))\n",
    "print('SS is superset of S :',ss.issuperset(s))"
   ]
  },
  {
   "cell_type": "markdown",
   "metadata": {},
   "source": [
    "Q8"
   ]
  },
  {
   "cell_type": "code",
   "execution_count": 50,
   "metadata": {},
   "outputs": [
    {
     "name": "stdout",
     "output_type": "stream",
     "text": [
      "after removing [47, 69, 76, 97]\n"
     ]
    }
   ],
   "source": [
    "rollNumber = [47, 64, 69, 37, 76, 83, 95, 97]\n",
    "sampleDict = {'Jhon':47, 'Emma':69, 'Kelly':76, 'Jason':97}\n",
    "x = []\n",
    "y = []\n",
    "for i in sampleDict:\n",
    "    x.append(sampleDict[i])\n",
    "for j in x:\n",
    "    if j in rollNumber:\n",
    "        y.append(j)\n",
    "print('after removing',y)"
   ]
  },
  {
   "cell_type": "markdown",
   "metadata": {},
   "source": [
    "Q9"
   ]
  },
  {
   "cell_type": "code",
   "execution_count": 51,
   "metadata": {},
   "outputs": [
    {
     "name": "stdout",
     "output_type": "stream",
     "text": [
      "[47, 52, 44, 53, 54]\n"
     ]
    }
   ],
   "source": [
    "speed = {'jan':47, 'feb':52, 'march':47, 'April':44, 'May':52, 'June':53, 'july':54, 'Aug':44, 'Sept':54}\n",
    "x = []\n",
    "y = []\n",
    "for i in speed:\n",
    "    x.append(speed[i])\n",
    "for j in x:\n",
    "    z = x.count(j)\n",
    "    if j not in y:\n",
    "        y.append(j)\n",
    "print(y)"
   ]
  },
  {
   "cell_type": "markdown",
   "metadata": {},
   "source": [
    "Q10"
   ]
  },
  {
   "cell_type": "code",
   "execution_count": 18,
   "metadata": {},
   "outputs": [
    {
     "name": "stdout",
     "output_type": "stream",
     "text": [
      "unque [87, 45, 65, 99]\n",
      "tuple (87, 45, 65, 99)\n",
      "min: 41 max: 99\n"
     ]
    }
   ],
   "source": [
    "simlist = [87, 45, 41, 65, 94, 41, 99, 94]\n",
    "y = []\n",
    "for i in simlist:\n",
    "    x = simlist.count(i)\n",
    "    if x == 1:\n",
    "        y.append(i)\n",
    "print('unque',y)\n",
    "print('tuple',tuple(y))\n",
    "print('min:',min(simlist),'max:',max(simlist))"
   ]
  }
 ],
 "metadata": {
  "kernelspec": {
   "display_name": "Python 3",
   "language": "python",
   "name": "python3"
  },
  "language_info": {
   "codemirror_mode": {
    "name": "ipython",
    "version": 3
   },
   "file_extension": ".py",
   "mimetype": "text/x-python",
   "name": "python",
   "nbconvert_exporter": "python",
   "pygments_lexer": "ipython3",
   "version": "3.8.3"
  }
 },
 "nbformat": 4,
 "nbformat_minor": 4
}
