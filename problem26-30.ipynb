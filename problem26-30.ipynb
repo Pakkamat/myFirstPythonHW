{
 "cells": [
  {
   "cell_type": "markdown",
   "metadata": {},
   "source": [
    "Problem 26"
   ]
  },
  {
   "cell_type": "code",
   "execution_count": 12,
   "metadata": {},
   "outputs": [
    {
     "name": "stdout",
     "output_type": "stream",
     "text": [
      "[3, 5, 7, 9, 2, 4, 6, 8, 20]\n",
      "Max : 20\n",
      "Min : 2\n"
     ]
    }
   ],
   "source": [
    "def maxD(list):\n",
    "    max = list[0]\n",
    "    for i in list:\n",
    "        if max < i:\n",
    "            max = i\n",
    "    return max\n",
    "def minD(list):\n",
    "    min = list[0]\n",
    "    for i in list:\n",
    "        if min > i:\n",
    "            min = i\n",
    "    return min\n",
    "list = [3, 5, 7, 9, 2, 4, 6, 8, 20]\n",
    "print(list)\n",
    "print(\"Max :\", maxD(list))\n",
    "print(\"Min :\", minD(list))"
   ]
  },
  {
   "cell_type": "code",
   "execution_count": 15,
   "metadata": {},
   "outputs": [
    {
     "name": "stdout",
     "output_type": "stream",
     "text": [
      "Max : e\n",
      "Min : a\n"
     ]
    }
   ],
   "source": [
    "list = ['a', 'c', 'b', 'e']\n",
    "print(\"Max :\", maxD(list))\n",
    "print(\"Min :\", minD(list))"
   ]
  },
  {
   "cell_type": "markdown",
   "metadata": {},
   "source": [
    "Problem 27"
   ]
  },
  {
   "cell_type": "code",
   "execution_count": 21,
   "metadata": {},
   "outputs": [],
   "source": [
    "a = [1, 2, 3, 4]\n",
    "b = [4, 3, 2, 1]"
   ]
  },
  {
   "cell_type": "code",
   "execution_count": 40,
   "metadata": {},
   "outputs": [
    {
     "data": {
      "text/plain": [
       "[1, 3, 6, 10]"
      ]
     },
     "execution_count": 40,
     "metadata": {},
     "output_type": "execute_result"
    }
   ],
   "source": [
    "def cumulative_sum(n):\n",
    "    x = n[0]\n",
    "    y = []\n",
    "    y.append(x)\n",
    "    for i in range(1, len(n)):\n",
    "        x += n[i]\n",
    "        y.append(x)\n",
    "    return(y)\n",
    "cumulative_sum(a)"
   ]
  },
  {
   "cell_type": "code",
   "execution_count": 37,
   "metadata": {},
   "outputs": [
    {
     "data": {
      "text/plain": [
       "[4, 7, 9, 10]"
      ]
     },
     "execution_count": 37,
     "metadata": {},
     "output_type": "execute_result"
    }
   ],
   "source": [
    "cumulative_sum(b)"
   ]
  },
  {
   "cell_type": "markdown",
   "metadata": {},
   "source": [
    "Problem 28"
   ]
  },
  {
   "cell_type": "code",
   "execution_count": 44,
   "metadata": {},
   "outputs": [
    {
     "data": {
      "text/plain": [
       "[1, 2, 6, 24]"
      ]
     },
     "execution_count": 44,
     "metadata": {},
     "output_type": "execute_result"
    }
   ],
   "source": [
    "def cumulative_product(n):\n",
    "    x = n[0]\n",
    "    y = []\n",
    "    y.append(x)\n",
    "    for i in range(1, len(n)):\n",
    "        x *= n[i]\n",
    "        y.append(x)\n",
    "    return(y)\n",
    "cumulative_product(a)"
   ]
  },
  {
   "cell_type": "code",
   "execution_count": 45,
   "metadata": {},
   "outputs": [
    {
     "data": {
      "text/plain": [
       "[4, 12, 24, 24]"
      ]
     },
     "execution_count": 45,
     "metadata": {},
     "output_type": "execute_result"
    }
   ],
   "source": [
    "cumulative_product(b)"
   ]
  },
  {
   "cell_type": "markdown",
   "metadata": {},
   "source": [
    "Problem 29"
   ]
  },
  {
   "cell_type": "code",
   "execution_count": 50,
   "metadata": {},
   "outputs": [
    {
     "data": {
      "text/plain": [
       "[1, 2, 3, 5]"
      ]
     },
     "execution_count": 50,
     "metadata": {},
     "output_type": "execute_result"
    }
   ],
   "source": [
    "a = [1, 2, 1, 3, 2, 5]\n",
    "def unique(n):\n",
    "    x = n[0]\n",
    "    y = []\n",
    "    y.append(x)\n",
    "    for i in range(1, len(n)):\n",
    "        chk = 0\n",
    "        x = n[i]\n",
    "        for j in y:\n",
    "            if j == x:\n",
    "                chk = 1\n",
    "        if chk == 0:\n",
    "            y.append(x)\n",
    "    return(y)\n",
    "unique(a)"
   ]
  },
  {
   "cell_type": "markdown",
   "metadata": {},
   "source": [
    "Problem 30"
   ]
  },
  {
   "cell_type": "code",
   "execution_count": 52,
   "metadata": {},
   "outputs": [
    {
     "data": {
      "text/plain": [
       "[1, 2]"
      ]
     },
     "execution_count": 52,
     "metadata": {},
     "output_type": "execute_result"
    }
   ],
   "source": [
    "a = [1, 2, 1, 3, 2, 5]\n",
    "def unique(n):\n",
    "    y = []\n",
    "    for i in range(len(n)):\n",
    "        for j in range(i+1, len(n)):\n",
    "            if n[i] == n[j]:\n",
    "                y.append(n[j])\n",
    "    return(y)\n",
    "unique(a)"
   ]
  },
  {
   "cell_type": "code",
   "execution_count": null,
   "metadata": {},
   "outputs": [],
   "source": [
    "def findDuplicate(listIn):\n",
    "    duplicateList = []\n",
    "    for i in range(len(listIn)):\n",
    "        for j in range(i+1, len(listIn)):\n",
    "            if listIn[j] == listIn[i]:\n",
    "                duplicateList.append(listIn[j])\n",
    "    return findUnique(duplicateList)"
   ]
  }
 ],
 "metadata": {
  "kernelspec": {
   "display_name": "Python 3",
   "language": "python",
   "name": "python3"
  },
  "language_info": {
   "codemirror_mode": {
    "name": "ipython",
    "version": 3
   },
   "file_extension": ".py",
   "mimetype": "text/x-python",
   "name": "python",
   "nbconvert_exporter": "python",
   "pygments_lexer": "ipython3",
   "version": "3.6.8"
  }
 },
 "nbformat": 4,
 "nbformat_minor": 4
}
