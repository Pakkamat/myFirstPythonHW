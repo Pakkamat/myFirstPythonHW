{
 "cells": [
  {
   "cell_type": "markdown",
   "metadata": {},
   "source": [
    "Problem 31"
   ]
  },
  {
   "cell_type": "code",
   "execution_count": 3,
   "metadata": {},
   "outputs": [
    {
     "name": "stdout",
     "output_type": "stream",
     "text": [
      "[[1, 2, 3], [4, 5, 6], [7, 8, 9]]\n"
     ]
    }
   ],
   "source": [
    "list = [1, 2, 3, 4, 5, 6, 7, 8, 9]\n",
    "size = 3\n",
    "big = []\n",
    "small = []\n",
    "for i in list:\n",
    "    if len(small) < size:\n",
    "        small.append(i)\n",
    "    if len(small) == size:\n",
    "        big.append(small)\n",
    "        small = []\n",
    "    elif len(list)-1 == list.index(i):\n",
    "        big.append(small)\n",
    "print(big)"
   ]
  },
  {
   "cell_type": "code",
   "execution_count": 8,
   "metadata": {},
   "outputs": [
    {
     "name": "stdout",
     "output_type": "stream",
     "text": [
      "[[1, 2, 3], [4, 5, 6], [7, 8, 9]]\n"
     ]
    }
   ],
   "source": [
    "def group(list,size):\n",
    "    big = []\n",
    "    small = []\n",
    "    for i in list:\n",
    "        if len(small) < size:\n",
    "            small.append(i)\n",
    "        if len(small) == size:\n",
    "            big.append(small)\n",
    "            small = []\n",
    "        elif len(list)-1 == list.index(i):\n",
    "            big.append(small)\n",
    "    print(big)\n",
    "group([1, 2, 3, 4, 5, 6, 7, 8, 9], 3)"
   ]
  },
  {
   "cell_type": "code",
   "execution_count": 9,
   "metadata": {},
   "outputs": [
    {
     "name": "stdout",
     "output_type": "stream",
     "text": [
      "[[1, 2, 3, 4], [5, 6, 7, 8], [9]]\n"
     ]
    }
   ],
   "source": [
    "group([1, 2, 3, 4, 5, 6, 7, 8, 9], 4)"
   ]
  },
  {
   "cell_type": "markdown",
   "metadata": {},
   "source": [
    "Problem 32"
   ]
  },
  {
   "cell_type": "code",
   "execution_count": 17,
   "metadata": {},
   "outputs": [
    {
     "data": {
      "text/plain": [
       "['c', 'perl', 'java', 'ruby', 'python', 'haskell']"
      ]
     },
     "execution_count": 17,
     "metadata": {},
     "output_type": "execute_result"
    }
   ],
   "source": [
    "a = ['python', 'perl', 'java', 'c', 'haskell', 'ruby']\n",
    "a = [[x,len(x)] for x in a] \n",
    "a.sort(key=lambda x: x[1])\n",
    "a = [x[0] for x in a]\n",
    "a"
   ]
  },
  {
   "cell_type": "code",
   "execution_count": 18,
   "metadata": {},
   "outputs": [
    {
     "name": "stdout",
     "output_type": "stream",
     "text": [
      "['c', 'perl', 'java', 'ruby', 'python', 'haskell']\n"
     ]
    }
   ],
   "source": [
    "def lensort(s):\n",
    "    s = [[x,len(x)] for x in s]\n",
    "    s.sort(key = lambda x:x[1])\n",
    "    s = [x[0] for x in s]\n",
    "    print(s)\n",
    "lensort(['python', 'perl', 'java', 'c', 'haskell', 'ruby'])"
   ]
  },
  {
   "cell_type": "markdown",
   "metadata": {},
   "source": [
    "Problem 33"
   ]
  },
  {
   "cell_type": "code",
   "execution_count": null,
   "metadata": {},
   "outputs": [],
   "source": [
    "def lensort(s):\n",
    "    s = [[x,len(x)] for x in s]\n",
    "    s.sort(key = lambda x:x[1])\n",
    "    s = [x[0] for x in s]\n",
    "    print(s)"
   ]
  },
  {
   "cell_type": "code",
   "execution_count": 69,
   "metadata": {},
   "outputs": [
    {
     "data": {
      "text/plain": [
       "['python', 'java']"
      ]
     },
     "execution_count": 69,
     "metadata": {},
     "output_type": "execute_result"
    }
   ],
   "source": [
    "def unique(nn,key):\n",
    "    n = []\n",
    "    for e in nn:\n",
    "        e = key(e)\n",
    "        n.append(e)\n",
    "    x = n[0]\n",
    "    y = []\n",
    "    y.append(x)\n",
    "    for i in range(1, len(n)):\n",
    "        chk = 0\n",
    "        x = n[i]\n",
    "        for j in y:\n",
    "            if j == x:\n",
    "                chk = 1\n",
    "        if chk == 0:\n",
    "            y.append(x)\n",
    "    return(y)\n",
    "unique(['python','java','Python','Java'], key=lambda s: s.lower())"
   ]
  },
  {
   "cell_type": "markdown",
   "metadata": {},
   "source": [
    "Problem 34"
   ]
  },
  {
   "cell_type": "code",
   "execution_count": 71,
   "metadata": {},
   "outputs": [
    {
     "data": {
      "text/plain": [
       "11"
      ]
     },
     "execution_count": 71,
     "metadata": {},
     "output_type": "execute_result"
    }
   ],
   "source": [
    "x = (\"abrakadabra\")\n",
    "len(x)"
   ]
  },
  {
   "cell_type": "code",
   "execution_count": 1,
   "metadata": {},
   "outputs": [
    {
     "name": "stdout",
     "output_type": "stream",
     "text": [
      "11\n"
     ]
    }
   ],
   "source": [
    "def lenn(e):\n",
    "    print(len(e))\n",
    "lenn(\"abrakadabra\")"
   ]
  },
  {
   "cell_type": "markdown",
   "metadata": {},
   "source": [
    "Problem 35"
   ]
  },
  {
   "cell_type": "code",
   "execution_count": 42,
   "metadata": {},
   "outputs": [
    {
     "name": "stdout",
     "output_type": "stream",
     "text": [
      "['a.c', 'x.c', 'a.py', 'b.py', 'bar.txt', 'foo.txt']\n"
     ]
    }
   ],
   "source": [
    "s = ['a.c', 'a.py', 'b.py', 'bar.txt', 'foo.txt', 'x.c']\n",
    "s = [e.split('.') for e in s]\n",
    "s.sort(key = lambda x:x[1])\n",
    "y = ['.'.join(x) for x in s]\n",
    "print(y)"
   ]
  },
  {
   "cell_type": "code",
   "execution_count": 43,
   "metadata": {},
   "outputs": [
    {
     "name": "stdout",
     "output_type": "stream",
     "text": [
      "['a.c', 'x.c', 'a.py', 'b.py', 'bar.txt', 'foo.txt']\n"
     ]
    }
   ],
   "source": [
    "def extsort(s):\n",
    "    s = [e.split('.') for e in s]\n",
    "    s.sort(key = lambda x:x[1])\n",
    "    y = ['.'.join(x) for x in s]\n",
    "    print(y)\n",
    "extsort(['a.c', 'a.py', 'b.py', 'bar.txt', 'foo.txt', 'x.c'])"
   ]
  },
  {
   "cell_type": "code",
   "execution_count": null,
   "metadata": {},
   "outputs": [],
   "source": []
  }
 ],
 "metadata": {
  "kernelspec": {
   "display_name": "Python 3",
   "language": "python",
   "name": "python3"
  },
  "language_info": {
   "codemirror_mode": {
    "name": "ipython",
    "version": 3
   },
   "file_extension": ".py",
   "mimetype": "text/x-python",
   "name": "python",
   "nbconvert_exporter": "python",
   "pygments_lexer": "ipython3",
   "version": "3.6.8"
  }
 },
 "nbformat": 4,
 "nbformat_minor": 4
}
