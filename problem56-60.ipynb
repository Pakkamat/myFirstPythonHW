{
 "cells": [
  {
   "cell_type": "markdown",
   "metadata": {},
   "source": [
    "Problem 56"
   ]
  },
  {
   "cell_type": "code",
   "execution_count": 1,
   "metadata": {},
   "outputs": [
    {
     "data": {
      "text/plain": [
       "[3, 1, 2]"
      ]
     },
     "execution_count": 1,
     "metadata": {},
     "output_type": "execute_result"
    }
   ],
   "source": [
    "def valuesort(d):\n",
    "    a = list(sorted(d.items()))\n",
    "    return([i for e,i in a])\n",
    "valuesort({'x': 1, 'y': 2, 'a': 3})  "
   ]
  },
  {
   "cell_type": "markdown",
   "metadata": {},
   "source": [
    "Problem 57"
   ]
  },
  {
   "cell_type": "code",
   "execution_count": 2,
   "metadata": {},
   "outputs": [
    {
     "data": {
      "text/plain": [
       "{1: 'x', 2: 'y', 3: 'z'}"
      ]
     },
     "execution_count": 2,
     "metadata": {},
     "output_type": "execute_result"
    }
   ],
   "source": [
    "def invertdict(d):\n",
    "    r = {}\n",
    "    for k,v in d.items():\n",
    "        r[v] = k\n",
    "    return r\n",
    "invertdict({'x': 1, 'y': 2, 'z': 3}) "
   ]
  },
  {
   "cell_type": "markdown",
   "metadata": {},
   "source": [
    "Problem 58"
   ]
  },
  {
   "cell_type": "code",
   "execution_count": null,
   "metadata": {},
   "outputs": [],
   "source": [
    "import os\n",
    "for currentpath, folders, files in os.walk('.'):\n",
    "    for file in files:\n",
    "        print(os.path.join(currentpath,file))"
   ]
  },
  {
   "cell_type": "markdown",
   "metadata": {},
   "source": [
    "Problem 59"
   ]
  },
  {
   "cell_type": "code",
   "execution_count": null,
   "metadata": {},
   "outputs": [],
   "source": [
    "import sys\n",
    "import os\n",
    "path = sys.argv[1]\n",
    "path = '.'\n",
    "files = []\n",
    "for f in os.listdir(path):\n",
    "    files.append(f)\n",
    "ext = [e.split('.')[-1] for e in files]\n",
    "frequency = {}\n",
    "for w in ext:\n",
    "    frequency[w] = frequency.get(w, 0) + 1\n",
    "extcount = {k: v for k, v in sorted(frequency.items(), key = lambda item: item[1], reverse=True)}\n",
    "extcount = [print(v,k) for k, v in extcount.items()]"
   ]
  },
  {
   "cell_type": "markdown",
   "metadata": {},
   "source": [
    "Problem 60"
   ]
  },
  {
   "cell_type": "code",
   "execution_count": null,
   "metadata": {},
   "outputs": [],
   "source": [
    "import datetime\n",
    "import os\n",
    "my_path = '.'\n",
    "for item in os.scandir(my_path):\n",
    "    print('\\t'.join(str(e) for e in [item.stat().st_size, datetime.datetime.fromtimestamp(item.stat().st_atime),item.name]))"
   ]
  },
  {
   "cell_type": "code",
   "execution_count": null,
   "metadata": {},
   "outputs": [],
   "source": []
  }
 ],
 "metadata": {
  "kernelspec": {
   "display_name": "Python 3",
   "language": "python",
   "name": "python3"
  },
  "language_info": {
   "codemirror_mode": {
    "name": "ipython",
    "version": 3
   },
   "file_extension": ".py",
   "mimetype": "text/x-python",
   "name": "python",
   "nbconvert_exporter": "python",
   "pygments_lexer": "ipython3",
   "version": "3.7.6"
  }
 },
 "nbformat": 4,
 "nbformat_minor": 4
}
