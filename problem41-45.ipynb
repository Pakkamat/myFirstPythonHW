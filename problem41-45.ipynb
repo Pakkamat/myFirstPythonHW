{
 "cells": [
  {
   "cell_type": "markdown",
   "metadata": {},
   "source": [
    "Problem 41"
   ]
  },
  {
   "cell_type": "code",
   "execution_count": 80,
   "metadata": {},
   "outputs": [
    {
     "name": "stdout",
     "output_type": "stream",
     "text": [
      "30\n",
      "She sells seashells on the\n",
      "seahore;\n",
      "The shells that she sells are\n",
      "seashells I'm sure.\n",
      "So if she sells seashells on\n",
      "the seashorem\n",
      "I'm sure That the shells are\n",
      "seashore shells.\n"
     ]
    }
   ],
   "source": [
    "f = open(\"she.txt\",\"r\")\n",
    "y = int(input())\n",
    "for i in f.readlines():\n",
    "    a = i.split()\n",
    "    x = len(a[0])\n",
    "    print(a.pop(0),end='')\n",
    "    while a != [] : \n",
    "        while x + len(a[0]) + 1 < y :\n",
    "            x += len(a[0]) + 1 \n",
    "            print('',a.pop(0),end='')\n",
    "            if a == [] : break\n",
    "        if a == [] : break\n",
    "        print()\n",
    "        x = len(a[0])\n",
    "        print(a.pop(0),end='')\n",
    "    print()"
   ]
  },
  {
   "cell_type": "markdown",
   "metadata": {},
   "source": [
    "Problem 42"
   ]
  },
  {
   "cell_type": "code",
   "execution_count": 40,
   "metadata": {},
   "outputs": [
    {
     "name": "stdout",
     "output_type": "stream",
     "text": [
      "                       She sells seashells on the seahore;\n",
      "                The shells that she sells are seashells I'm sure.\n",
      "                    So if she sells seashells on the seashorem\n",
      "                  I'm sure That the shells are seashore shells.\n"
     ]
    }
   ],
   "source": [
    "x = open(\"she.txt\")\n",
    "for i in x.readlines():\n",
    "    print(' '*(40-len(i)//2),i.strip())"
   ]
  },
  {
   "cell_type": "markdown",
   "metadata": {},
   "source": [
    "Problem 43"
   ]
  },
  {
   "cell_type": "code",
   "execution_count": 51,
   "metadata": {},
   "outputs": [
    {
     "name": "stdout",
     "output_type": "stream",
     "text": [
      "[(1, 'a'), (2, 'b'), (3, 'c')]\n"
     ]
    }
   ],
   "source": [
    "s = zip([1, 2, 3], [\"a\", \"b\", \"c\"])\n",
    "print(list(s))"
   ]
  },
  {
   "cell_type": "code",
   "execution_count": 55,
   "metadata": {},
   "outputs": [
    {
     "name": "stdout",
     "output_type": "stream",
     "text": [
      "[(1, 'a'), (2, 'b'), (3, 'c')]\n"
     ]
    }
   ],
   "source": [
    "def myzip(*e):\n",
    "    s = zip(*e)\n",
    "    print(list(s))\n",
    "myzip([1, 2, 3], [\"a\", \"b\", \"c\"])"
   ]
  },
  {
   "cell_type": "markdown",
   "metadata": {},
   "source": [
    "Problem 44"
   ]
  },
  {
   "cell_type": "code",
   "execution_count": 65,
   "metadata": {},
   "outputs": [
    {
     "name": "stdout",
     "output_type": "stream",
     "text": [
      "5\n",
      "[0, 1, 4, 9, 16]\n"
     ]
    }
   ],
   "source": [
    "def square(x):\n",
    "    return (x*x)\n",
    "s = int(input())\n",
    "y = map(square,range(s))\n",
    "print(list(y))"
   ]
  },
  {
   "cell_type": "markdown",
   "metadata": {},
   "source": [
    "Problem 45"
   ]
  },
  {
   "cell_type": "code",
   "execution_count": 68,
   "metadata": {},
   "outputs": [
    {
     "name": "stdout",
     "output_type": "stream",
     "text": [
      "[0, 2, 4, 6, 8]\n"
     ]
    }
   ],
   "source": [
    "def even(x):\n",
    "    return x%2 == 0\n",
    "y = filter(even, range(10))\n",
    "print(list(y))"
   ]
  },
  {
   "cell_type": "code",
   "execution_count": null,
   "metadata": {},
   "outputs": [],
   "source": []
  }
 ],
 "metadata": {
  "kernelspec": {
   "display_name": "Python 3",
   "language": "python",
   "name": "python3"
  }
 },
 "nbformat": 4,
 "nbformat_minor": 4
}
