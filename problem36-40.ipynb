{
 "cells": [
  {
   "cell_type": "markdown",
   "metadata": {},
   "source": [
    "Problem 36"
   ]
  },
  {
   "cell_type": "code",
   "execution_count": 13,
   "metadata": {},
   "outputs": [
    {
     "name": "stdout",
     "output_type": "stream",
     "text": [
      "She sells seashells on the seahore;\n",
      "\n",
      "The shells that she sells are seashells I'm sure.\n",
      "\n",
      "So if she sells seashells on the seashorem\n",
      "\n",
      "I'm sure That the shells are seashore shells.\n",
      "\n",
      "======================================================\n",
      "I'm sure That the shells are seashore shells.\n",
      "\n",
      "So if she sells seashells on the seashorem\n",
      "\n",
      "The shells that she sells are seashells I'm sure.\n",
      "\n",
      "She sells seashells on the seahore;\n",
      "\n"
     ]
    }
   ],
   "source": [
    "f = open(\"she.txt\",\"r\")\n",
    "a = []\n",
    "y = []\n",
    "for i in f:\n",
    "    a.append(i)\n",
    "for x in a:\n",
    "    print(x)\n",
    "print(\"======================================================\")\n",
    "for e in range(len(a)-1,-1,-1):\n",
    "    y.append(a[e])\n",
    "for s in y:\n",
    "    print(s)"
   ]
  },
  {
   "cell_type": "markdown",
   "metadata": {},
   "source": [
    "Problem 37"
   ]
  },
  {
   "cell_type": "code",
   "execution_count": 9,
   "metadata": {},
   "outputs": [
    {
     "name": "stdout",
     "output_type": "stream",
     "text": [
      "I love Programing\n",
      "gnimargorP evol I\n"
     ]
    }
   ],
   "source": [
    "x = (\"I love Programing\")\n",
    "y = []\n",
    "for e in x:\n",
    "    y.append(e)\n",
    "print(x)\n",
    "z = []\n",
    "for i in range(len(y)-1,-1,-1):\n",
    "    z.append(y[i])\n",
    "xx = ''.join(z)\n",
    "print(xx)"
   ]
  },
  {
   "cell_type": "markdown",
   "metadata": {},
   "source": [
    "Problem 38"
   ]
  },
  {
   "cell_type": "code",
   "execution_count": 13,
   "metadata": {},
   "outputs": [
    {
     "name": "stdout",
     "output_type": "stream",
     "text": [
      "1\n",
      "2\n",
      "3\n",
      "4\n",
      "5\n",
      "6\n",
      "7\n",
      "8\n",
      "9\n",
      "10\n",
      "=========================================\n",
      "31\n",
      "32\n",
      "33\n",
      "34\n",
      "35\n",
      "36\n",
      "37\n",
      "38\n",
      "39\n",
      "40\n"
     ]
    }
   ],
   "source": [
    "x = open(\"number.txt\")\n",
    "y = open(\"number.txt\")\n",
    "for line in x.readlines()[:10]:\n",
    "    print(line.strip())\n",
    "print(\"=========================================\")\n",
    "for linee in y.readlines()[-10:]:\n",
    "    print(linee.strip())"
   ]
  },
  {
   "cell_type": "markdown",
   "metadata": {},
   "source": [
    "Problem 39"
   ]
  },
  {
   "cell_type": "code",
   "execution_count": 57,
   "metadata": {
    "scrolled": false
   },
   "outputs": [
    {
     "name": "stdout",
     "output_type": "stream",
     "text": [
      "sure\n",
      "The shells that she sells are seashells I'm sure.\n",
      "\n",
      "I'm sure That the shells are seashore shells.\n",
      "\n"
     ]
    }
   ],
   "source": [
    "x = open(\"she.txt\")\n",
    "y = input()\n",
    "for i in x.readlines():\n",
    "    if y in i:\n",
    "        print(i)"
   ]
  },
  {
   "cell_type": "markdown",
   "metadata": {},
   "source": [
    "Problem 40"
   ]
  },
  {
   "cell_type": "code",
   "execution_count": 58,
   "metadata": {},
   "outputs": [
    {
     "name": "stdout",
     "output_type": "stream",
     "text": [
      "30\n",
      "She sells seashells on the sea\n",
      "hore;\n",
      "\n",
      "The shells that she sells are \n",
      "seashells I'm sure.\n",
      "\n",
      "So if she sells seashells on t\n",
      "he seashorem\n",
      "\n",
      "I'm sure That the shells are s\n",
      "eashore shells.\n",
      "\n"
     ]
    }
   ],
   "source": [
    "f = open(\"she.txt\",\"r\")\n",
    "y = int(input())\n",
    "for i in f.readlines():\n",
    "    while len(i)>y:\n",
    "        print(i[:y])\n",
    "        i = i[y:]\n",
    "        if len(i)<y:\n",
    "            print(i)"
   ]
  },
  {
   "cell_type": "code",
   "execution_count": null,
   "metadata": {},
   "outputs": [],
   "source": []
  }
 ],
 "metadata": {
  "kernelspec": {
   "display_name": "Python 3",
   "language": "python",
   "name": "python3"
  },
  "language_info": {
   "codemirror_mode": {
    "name": "ipython",
    "version": 3
   },
   "file_extension": ".py",
   "mimetype": "text/x-python",
   "name": "python",
   "nbconvert_exporter": "python",
   "pygments_lexer": "ipython3",
   "version": "3.6.8"
  }
 },
 "nbformat": 4,
 "nbformat_minor": 4
}
