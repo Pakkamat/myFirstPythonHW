{
 "cells": [
  {
   "cell_type": "markdown",
   "metadata": {},
   "source": [
    "Problem 46"
   ]
  },
  {
   "cell_type": "code",
   "execution_count": 23,
   "metadata": {},
   "outputs": [
    {
     "data": {
      "text/plain": [
       "[(1, 1, 3), (1, 1, 4), (1, 2, 4), (2, 1, 4)]"
      ]
     },
     "execution_count": 23,
     "metadata": {},
     "output_type": "execute_result"
    }
   ],
   "source": [
    "y = 5\n",
    "[(x, y, z) for x in range(1,5) for y in range(1,5) for z in range(1,5) if x+y<z]"
   ]
  },
  {
   "cell_type": "markdown",
   "metadata": {},
   "source": [
    "Problem 47"
   ]
  },
  {
   "cell_type": "code",
   "execution_count": 31,
   "metadata": {},
   "outputs": [
    {
     "name": "stdout",
     "output_type": "stream",
     "text": [
      "[(0, 'a'), (1, 'b'), (2, 'c')]\n"
     ]
    }
   ],
   "source": [
    "e = enumerate([\"a\", \"b\", \"c\"])\n",
    "print(list(e))"
   ]
  },
  {
   "cell_type": "code",
   "execution_count": 32,
   "metadata": {},
   "outputs": [
    {
     "name": "stdout",
     "output_type": "stream",
     "text": [
      "0 a\n",
      "1 b\n",
      "2 c\n"
     ]
    }
   ],
   "source": [
    "for index, value in enumerate([\"a\", \"b\", \"c\"]) :\n",
    "    print (index, value)"
   ]
  },
  {
   "cell_type": "markdown",
   "metadata": {},
   "source": [
    "Problem 48"
   ]
  },
  {
   "cell_type": "code",
   "execution_count": 15,
   "metadata": {},
   "outputs": [
    {
     "name": "stdout",
     "output_type": "stream",
     "text": [
      "[['None', 'None', 'None'], ['None', 'None', 'None']]\n"
     ]
    }
   ],
   "source": [
    "(x,y) = 2,3\n",
    "a = []\n",
    "b = []\n",
    "for i in range(x):\n",
    "    for j in range(y):\n",
    "        a.append(\"None\")\n",
    "    b.append(a)\n",
    "    a = []\n",
    "print(b)"
   ]
  },
  {
   "cell_type": "code",
   "execution_count": 18,
   "metadata": {},
   "outputs": [
    {
     "data": {
      "text/plain": [
       "[['None', 'None', 'None'], ['None', 'None', 'None']]"
      ]
     },
     "execution_count": 18,
     "metadata": {},
     "output_type": "execute_result"
    }
   ],
   "source": [
    "def array(x,y):\n",
    "    a = []\n",
    "    b = []\n",
    "    for i in range(x):\n",
    "        for j in range(y):\n",
    "            a.append(\"None\")\n",
    "        b.append(a)\n",
    "        a = []\n",
    "    return (b)\n",
    "x = array(2, 3) \n",
    "x"
   ]
  },
  {
   "cell_type": "code",
   "execution_count": 19,
   "metadata": {},
   "outputs": [
    {
     "data": {
      "text/plain": [
       "[[5, 'None', 'None'], ['None', 'None', 'None']]"
      ]
     },
     "execution_count": 19,
     "metadata": {},
     "output_type": "execute_result"
    }
   ],
   "source": [
    "x[0][0] = 5\n",
    "x"
   ]
  },
  {
   "cell_type": "markdown",
   "metadata": {},
   "source": [
    "Problem 49"
   ]
  },
  {
   "cell_type": "code",
   "execution_count": 23,
   "metadata": {},
   "outputs": [
    {
     "name": "stdout",
     "output_type": "stream",
     "text": [
      "a,b,c\n",
      "1,2,3\n",
      "2,3,4\n",
      "3,4,5\n",
      "\n"
     ]
    }
   ],
   "source": [
    "x = (open('a.csv').read())\n",
    "print(x)"
   ]
  },
  {
   "cell_type": "code",
   "execution_count": 94,
   "metadata": {},
   "outputs": [
    {
     "name": "stdout",
     "output_type": "stream",
     "text": [
      "[['a', 'b', 'c'], ['1', '2', '3'], ['2', '3', '4'], ['3', '4', '5']]\n"
     ]
    }
   ],
   "source": [
    "a = []\n",
    "b = []\n",
    "x = (open('a.csv').read())\n",
    "for i in x:\n",
    "    if i != ',':\n",
    "        if i != '\\n':\n",
    "            a.append(i)\n",
    "        elif i == '\\n':\n",
    "            b.append(a)\n",
    "            a = []\n",
    "print(b)"
   ]
  },
  {
   "cell_type": "code",
   "execution_count": 96,
   "metadata": {},
   "outputs": [
    {
     "data": {
      "text/plain": [
       "[['a', 'b', 'c'], ['1', '2', '3'], ['2', '3', '4'], ['3', '4', '5']]"
      ]
     },
     "execution_count": 96,
     "metadata": {},
     "output_type": "execute_result"
    }
   ],
   "source": [
    "def parse_csv(y):\n",
    "    x = (open(y).read())\n",
    "    a = []\n",
    "    b = []\n",
    "    for i in x:\n",
    "        if i != ',':\n",
    "            if i != '\\n':\n",
    "                a.append(i)\n",
    "            elif i == '\\n':\n",
    "                b.append(a)\n",
    "                a = []\n",
    "    return(b)\n",
    "parse_csv('a.csv')"
   ]
  },
  {
   "cell_type": "markdown",
   "metadata": {},
   "source": [
    "Problem 50"
   ]
  },
  {
   "cell_type": "code",
   "execution_count": 104,
   "metadata": {},
   "outputs": [
    {
     "name": "stdout",
     "output_type": "stream",
     "text": [
      "!\n",
      "[['a', 'b', 'c'], ['1', '2', '3'], ['2', '3', '4'], ['3', '4', '5']]\n"
     ]
    }
   ],
   "source": [
    "a = []\n",
    "b = []\n",
    "y = input()\n",
    "x = (open('a.txt').read())\n",
    "for i in x:\n",
    "    if i != y:\n",
    "        if i != '\\n':\n",
    "            a.append(i)\n",
    "        elif i == '\\n':\n",
    "            b.append(a)\n",
    "            a = []\n",
    "print(b)"
   ]
  },
  {
   "cell_type": "code",
   "execution_count": 109,
   "metadata": {},
   "outputs": [
    {
     "data": {
      "text/plain": [
       "[['a', 'b', 'c'], ['1', '2', '3'], ['2', '3', '4'], ['3', '4', '5']]"
      ]
     },
     "execution_count": 109,
     "metadata": {},
     "output_type": "execute_result"
    }
   ],
   "source": [
    "def parse_csv(y,z,z1):\n",
    "    x = (open(y).read())\n",
    "    a = []\n",
    "    b = []\n",
    "    for i in x:\n",
    "        if i != z and i != z1:\n",
    "            if i != '\\n':\n",
    "                a.append(i)\n",
    "            elif i == '\\n':\n",
    "                b.append(a)\n",
    "                a = []\n",
    "    return(b)\n",
    "parse_csv('a.txt', '!', '#')"
   ]
  },
  {
   "cell_type": "code",
   "execution_count": null,
   "metadata": {},
   "outputs": [],
   "source": []
  }
 ],
 "metadata": {
  "kernelspec": {
   "display_name": "Python 3",
   "language": "python",
   "name": "python3"
  },
  "language_info": {
   "codemirror_mode": {
    "name": "ipython",
    "version": 3
   },
   "file_extension": ".py",
   "mimetype": "text/x-python",
   "name": "python",
   "nbconvert_exporter": "python",
   "pygments_lexer": "ipython3",
   "version": "3.6.8"
  }
 },
 "nbformat": 4,
 "nbformat_minor": 4
}
